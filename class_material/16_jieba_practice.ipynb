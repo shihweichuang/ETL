{
 "cells": [
  {
   "cell_type": "code",
   "execution_count": 26,
   "id": "456ed35d",
   "metadata": {},
   "outputs": [],
   "source": [
    "import jieba"
   ]
  },
  {
   "cell_type": "code",
   "execution_count": 27,
   "id": "817473fa",
   "metadata": {},
   "outputs": [],
   "source": [
    "s = \"大家好我叫小賀，今天來中壢AI大數據班上課，學習網路爬蟲。\""
   ]
  },
  {
   "cell_type": "code",
   "execution_count": 29,
   "id": "efff6608",
   "metadata": {},
   "outputs": [
    {
     "data": {
      "text/plain": [
       "<generator object Tokenizer.cut at 0x00000221507B0BA0>"
      ]
     },
     "execution_count": 29,
     "metadata": {},
     "output_type": "execute_result"
    }
   ],
   "source": [
    "jieba.cut(s, cut_all=True)"
   ]
  },
  {
   "cell_type": "code",
   "execution_count": 30,
   "id": "102b5e7d",
   "metadata": {},
   "outputs": [
    {
     "name": "stdout",
     "output_type": "stream",
     "text": [
      "大家\n",
      "好\n",
      "我\n",
      "叫\n",
      "小\n",
      "賀\n",
      "，\n",
      "今天\n",
      "來\n",
      "中\n",
      "壢\n",
      "AI\n",
      "大\n",
      "數\n",
      "據\n",
      "班上\n",
      "課\n",
      "，\n",
      "學\n",
      "習\n",
      "網\n",
      "路\n",
      "爬\n",
      "蟲\n",
      "。\n"
     ]
    }
   ],
   "source": [
    "word_gen = jieba.cut(s, cut_all=True)\n",
    "for w in word_gen:\n",
    "    print(w)"
   ]
  },
  {
   "cell_type": "code",
   "execution_count": 31,
   "id": "b9d23bbc",
   "metadata": {},
   "outputs": [],
   "source": [
    "for w in word_gen:\n",
    "    print(w)"
   ]
  },
  {
   "cell_type": "code",
   "execution_count": 32,
   "id": "f4514660",
   "metadata": {},
   "outputs": [
    {
     "name": "stdout",
     "output_type": "stream",
     "text": [
      "大家\n",
      "好\n",
      "我\n",
      "叫\n",
      "小賀\n",
      "，\n",
      "今天\n",
      "來\n",
      "中壢\n",
      "AI\n",
      "大數據\n",
      "班上\n",
      "課\n",
      "，\n",
      "學習\n",
      "網路\n",
      "爬蟲\n",
      "。\n"
     ]
    }
   ],
   "source": [
    "word_gen = jieba.cut(s, cut_all=False)\n",
    "for w in word_gen:\n",
    "    print(w)"
   ]
  },
  {
   "cell_type": "code",
   "execution_count": 33,
   "id": "83cc2b2b",
   "metadata": {},
   "outputs": [
    {
     "name": "stdout",
     "output_type": "stream",
     "text": [
      "大家\n",
      "好\n",
      "我\n",
      "叫\n",
      "小賀\n",
      "，\n",
      "今天\n",
      "來\n",
      "中壢\n",
      "AI\n",
      "大數據\n",
      "班上\n",
      "課\n",
      "，\n",
      "學習\n",
      "網路\n",
      "爬蟲\n",
      "。\n"
     ]
    }
   ],
   "source": [
    "word_gen = jieba.cut(s)\n",
    "for w in word_gen:\n",
    "    print(w)"
   ]
  },
  {
   "cell_type": "code",
   "execution_count": 34,
   "id": "0bf0c473",
   "metadata": {},
   "outputs": [
    {
     "name": "stdout",
     "output_type": "stream",
     "text": [
      "大家\n",
      "好\n",
      "我\n",
      "叫\n",
      "小賀\n",
      "，\n",
      "今天\n",
      "來\n",
      "中壢\n",
      "AI\n",
      "大數據\n",
      "班上\n",
      "課\n",
      "，\n",
      "學習\n",
      "網路\n",
      "爬蟲\n",
      "。\n"
     ]
    }
   ],
   "source": [
    "word_gen = jieba.cut_for_search(s)\n",
    "for w in word_gen:\n",
    "    print(w)"
   ]
  },
  {
   "cell_type": "code",
   "execution_count": 35,
   "id": "e6edbeb5",
   "metadata": {},
   "outputs": [
    {
     "data": {
      "text/plain": [
       "'大家|好|我|叫|小賀|，|今天|來|中壢|AI|大數據|班上|課|，|學習|網路|爬蟲|。'"
      ]
     },
     "execution_count": 35,
     "metadata": {},
     "output_type": "execute_result"
    }
   ],
   "source": [
    "\"|\".join(jieba.cut(s))"
   ]
  },
  {
   "cell_type": "code",
   "execution_count": 40,
   "id": "d0cc454d",
   "metadata": {},
   "outputs": [],
   "source": [
    "jieba.load_userdict(\"./mydict.txt\")"
   ]
  },
  {
   "cell_type": "code",
   "execution_count": 41,
   "id": "9150a199",
   "metadata": {},
   "outputs": [
    {
     "data": {
      "text/plain": [
       "'大家|好|我|叫|小賀|，|今天|來|中壢|AI|大數據班|上課|，|學習|網路爬蟲|。'"
      ]
     },
     "execution_count": 41,
     "metadata": {},
     "output_type": "execute_result"
    }
   ],
   "source": [
    "\"|\".join(jieba.cut(s))"
   ]
  },
  {
   "cell_type": "code",
   "execution_count": 42,
   "id": "6be31669",
   "metadata": {},
   "outputs": [
    {
     "data": {
      "text/plain": [
       "'大家|好|我|叫|小賀|，|今天|來|中壢|AI|大數據班|上課|，|學習|網路爬蟲|。'"
      ]
     },
     "execution_count": 42,
     "metadata": {},
     "output_type": "execute_result"
    }
   ],
   "source": [
    "\"|\".join(jieba.cut_for_search(s))"
   ]
  }
 ],
 "metadata": {
  "kernelspec": {
   "display_name": "Python 3 (ipykernel)",
   "language": "python",
   "name": "python3"
  },
  "language_info": {
   "codemirror_mode": {
    "name": "ipython",
    "version": 3
   },
   "file_extension": ".py",
   "mimetype": "text/x-python",
   "name": "python",
   "nbconvert_exporter": "python",
   "pygments_lexer": "ipython3",
   "version": "3.8.10"
  }
 },
 "nbformat": 4,
 "nbformat_minor": 5
}
